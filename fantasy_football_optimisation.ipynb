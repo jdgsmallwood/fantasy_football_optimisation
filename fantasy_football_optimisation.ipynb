{
 "cells": [
  {
   "cell_type": "code",
   "execution_count": 7,
   "metadata": {},
   "outputs": [],
   "source": [
    "import pandas as pd\n",
    "\n",
    "from pulp import LpProblem, LpMaximize, lpSum, LpVariable, LpStatus, LpInteger, LpBinary\n",
    "\n",
    "data = pd.read_excel(\"data_2024.xlsx\").dropna()\n",
    "\n",
    "#PLAYED_AT_LEAST = 30\n",
    "#data = data[data['PLD'] >= PLAYED_AT_LEAST]"
   ]
  },
  {
   "cell_type": "code",
   "execution_count": 8,
   "metadata": {},
   "outputs": [
    {
     "data": {
      "text/html": [
       "<div>\n",
       "<style scoped>\n",
       "    .dataframe tbody tr th:only-of-type {\n",
       "        vertical-align: middle;\n",
       "    }\n",
       "\n",
       "    .dataframe tbody tr th {\n",
       "        vertical-align: top;\n",
       "    }\n",
       "\n",
       "    .dataframe thead th {\n",
       "        text-align: right;\n",
       "    }\n",
       "</style>\n",
       "<table border=\"1\" class=\"dataframe\">\n",
       "  <thead>\n",
       "    <tr style=\"text-align: right;\">\n",
       "      <th></th>\n",
       "      <th>Code</th>\n",
       "      <th>Name</th>\n",
       "      <th>Club</th>\n",
       "      <th>Value</th>\n",
       "      <th>Pts</th>\n",
       "    </tr>\n",
       "  </thead>\n",
       "  <tbody>\n",
       "    <tr>\n",
       "      <th>0</th>\n",
       "      <td>101</td>\n",
       "      <td>D. Raya</td>\n",
       "      <td>ARS</td>\n",
       "      <td>3.9</td>\n",
       "      <td>40</td>\n",
       "    </tr>\n",
       "    <tr>\n",
       "      <th>1</th>\n",
       "      <td>102</td>\n",
       "      <td>A. Ramsdale</td>\n",
       "      <td>ARS</td>\n",
       "      <td>3.5</td>\n",
       "      <td>5</td>\n",
       "    </tr>\n",
       "    <tr>\n",
       "      <th>2</th>\n",
       "      <td>103</td>\n",
       "      <td>E. Martinez</td>\n",
       "      <td>AV</td>\n",
       "      <td>3.3</td>\n",
       "      <td>2</td>\n",
       "    </tr>\n",
       "    <tr>\n",
       "      <th>3</th>\n",
       "      <td>104</td>\n",
       "      <td>R. Olsen</td>\n",
       "      <td>AV</td>\n",
       "      <td>2.6</td>\n",
       "      <td>-8</td>\n",
       "    </tr>\n",
       "    <tr>\n",
       "      <th>4</th>\n",
       "      <td>105</td>\n",
       "      <td>J. Gauci</td>\n",
       "      <td>AV</td>\n",
       "      <td>2.5</td>\n",
       "      <td>0</td>\n",
       "    </tr>\n",
       "    <tr>\n",
       "      <th>...</th>\n",
       "      <td>...</td>\n",
       "      <td>...</td>\n",
       "      <td>...</td>\n",
       "      <td>...</td>\n",
       "      <td>...</td>\n",
       "    </tr>\n",
       "    <tr>\n",
       "      <th>478</th>\n",
       "      <td>696</td>\n",
       "      <td>M. Cunha</td>\n",
       "      <td>WOL</td>\n",
       "      <td>6.0</td>\n",
       "      <td>50</td>\n",
       "    </tr>\n",
       "    <tr>\n",
       "      <th>479</th>\n",
       "      <td>697</td>\n",
       "      <td>H. Hwang</td>\n",
       "      <td>WOL</td>\n",
       "      <td>5.9</td>\n",
       "      <td>42</td>\n",
       "    </tr>\n",
       "    <tr>\n",
       "      <th>480</th>\n",
       "      <td>698</td>\n",
       "      <td>E. Gonzalez Medina</td>\n",
       "      <td>WOL</td>\n",
       "      <td>5.7</td>\n",
       "      <td>0</td>\n",
       "    </tr>\n",
       "    <tr>\n",
       "      <th>481</th>\n",
       "      <td>699</td>\n",
       "      <td>J. Strand Larsen</td>\n",
       "      <td>WOL</td>\n",
       "      <td>5.5</td>\n",
       "      <td>0</td>\n",
       "    </tr>\n",
       "    <tr>\n",
       "      <th>482</th>\n",
       "      <td>700</td>\n",
       "      <td>N. Fraser</td>\n",
       "      <td>WOL</td>\n",
       "      <td>5.5</td>\n",
       "      <td>0</td>\n",
       "    </tr>\n",
       "  </tbody>\n",
       "</table>\n",
       "<p>483 rows × 5 columns</p>\n",
       "</div>"
      ],
      "text/plain": [
       "     Code                Name Club  Value  Pts\n",
       "0     101             D. Raya  ARS    3.9   40\n",
       "1     102         A. Ramsdale  ARS    3.5    5\n",
       "2     103         E. Martinez   AV    3.3    2\n",
       "3     104            R. Olsen   AV    2.6   -8\n",
       "4     105            J. Gauci   AV    2.5    0\n",
       "..    ...                 ...  ...    ...  ...\n",
       "478   696            M. Cunha  WOL    6.0   50\n",
       "479   697            H. Hwang  WOL    5.9   42\n",
       "480   698  E. Gonzalez Medina  WOL    5.7    0\n",
       "481   699    J. Strand Larsen  WOL    5.5    0\n",
       "482   700           N. Fraser  WOL    5.5    0\n",
       "\n",
       "[483 rows x 5 columns]"
      ]
     },
     "execution_count": 8,
     "metadata": {},
     "output_type": "execute_result"
    }
   ],
   "source": [
    "data"
   ]
  },
  {
   "cell_type": "code",
   "execution_count": 13,
   "metadata": {},
   "outputs": [],
   "source": [
    "def _position(player_code: int):\n",
    "    match str(player_code)[0]: \n",
    "        case \"1\":\n",
    "            return \"GK\"\n",
    "        case \"2\":\n",
    "            return \"FB\"\n",
    "        case \"3\": \n",
    "            return \"CB\"\n",
    "        case \"4\"|\"5\":\n",
    "            return \"MF\"\n",
    "        case \"6\" | \"7\":\n",
    "            return \"ST\"\n",
    "\n",
    "    raise ValueError(f\"{player_code} is not recognized\")\n",
    "\n",
    "data['Position'] = data['Code'].apply(_position)"
   ]
  },
  {
   "cell_type": "code",
   "execution_count": 14,
   "metadata": {},
   "outputs": [
    {
     "data": {
      "text/html": [
       "<div>\n",
       "<style scoped>\n",
       "    .dataframe tbody tr th:only-of-type {\n",
       "        vertical-align: middle;\n",
       "    }\n",
       "\n",
       "    .dataframe tbody tr th {\n",
       "        vertical-align: top;\n",
       "    }\n",
       "\n",
       "    .dataframe thead th {\n",
       "        text-align: right;\n",
       "    }\n",
       "</style>\n",
       "<table border=\"1\" class=\"dataframe\">\n",
       "  <thead>\n",
       "    <tr style=\"text-align: right;\">\n",
       "      <th></th>\n",
       "      <th>Code</th>\n",
       "      <th>Name</th>\n",
       "      <th>Club</th>\n",
       "      <th>Value</th>\n",
       "      <th>Pts</th>\n",
       "      <th>Position</th>\n",
       "    </tr>\n",
       "  </thead>\n",
       "  <tbody>\n",
       "    <tr>\n",
       "      <th>478</th>\n",
       "      <td>696</td>\n",
       "      <td>M. Cunha</td>\n",
       "      <td>WOL</td>\n",
       "      <td>6.0</td>\n",
       "      <td>50</td>\n",
       "      <td>ST</td>\n",
       "    </tr>\n",
       "    <tr>\n",
       "      <th>479</th>\n",
       "      <td>697</td>\n",
       "      <td>H. Hwang</td>\n",
       "      <td>WOL</td>\n",
       "      <td>5.9</td>\n",
       "      <td>42</td>\n",
       "      <td>ST</td>\n",
       "    </tr>\n",
       "    <tr>\n",
       "      <th>480</th>\n",
       "      <td>698</td>\n",
       "      <td>E. Gonzalez Medina</td>\n",
       "      <td>WOL</td>\n",
       "      <td>5.7</td>\n",
       "      <td>0</td>\n",
       "      <td>ST</td>\n",
       "    </tr>\n",
       "    <tr>\n",
       "      <th>481</th>\n",
       "      <td>699</td>\n",
       "      <td>J. Strand Larsen</td>\n",
       "      <td>WOL</td>\n",
       "      <td>5.5</td>\n",
       "      <td>0</td>\n",
       "      <td>ST</td>\n",
       "    </tr>\n",
       "    <tr>\n",
       "      <th>482</th>\n",
       "      <td>700</td>\n",
       "      <td>N. Fraser</td>\n",
       "      <td>WOL</td>\n",
       "      <td>5.5</td>\n",
       "      <td>0</td>\n",
       "      <td>ST</td>\n",
       "    </tr>\n",
       "  </tbody>\n",
       "</table>\n",
       "</div>"
      ],
      "text/plain": [
       "     Code                Name Club  Value  Pts Position\n",
       "478   696            M. Cunha  WOL    6.0   50       ST\n",
       "479   697            H. Hwang  WOL    5.9   42       ST\n",
       "480   698  E. Gonzalez Medina  WOL    5.7    0       ST\n",
       "481   699    J. Strand Larsen  WOL    5.5    0       ST\n",
       "482   700           N. Fraser  WOL    5.5    0       ST"
      ]
     },
     "execution_count": 14,
     "metadata": {},
     "output_type": "execute_result"
    }
   ],
   "source": [
    "data.tail()"
   ]
  },
  {
   "cell_type": "code",
   "execution_count": 24,
   "metadata": {},
   "outputs": [],
   "source": [
    "# Create the data groups\n",
    "\n",
    "PLAYERS = data['Name'].tolist()\n",
    "\n",
    "TEAMS = {\n",
    "    team: data[data['Club'] == team]['Name'].tolist() for team in data['Club'].unique().tolist()\n",
    "}\n",
    "\n",
    "POSITIONS = {\n",
    "    position: data[data['Position'] == position]['Name'].tolist() for position in data['Position'].unique().tolist()\n",
    "}\n",
    "\n",
    "values = {\n",
    "    player: data[data['Name'] == player].iloc[0]['Value'] for player in PLAYERS\n",
    "}\n",
    "\n",
    "points = {\n",
    "    player: data[data['Name'] == player].iloc[0]['Pts'] for player in PLAYERS\n",
    "}\n",
    "\n",
    "clubs_for_player = {\n",
    "    row['Name']: row['Club'] for _, row in data.iterrows()\n",
    "}\n",
    "\n",
    "codes = {\n",
    "     player: data[data['Name'] == player].iloc[0]['Code'] for player in PLAYERS\n",
    "}\n"
   ]
  },
  {
   "cell_type": "code",
   "execution_count": 25,
   "metadata": {},
   "outputs": [
    {
     "data": {
      "text/plain": [
       "['ARS',\n",
       " 'AV',\n",
       " 'BHA',\n",
       " 'BOU',\n",
       " 'BRE',\n",
       " 'CHE',\n",
       " 'CP',\n",
       " 'EVE',\n",
       " 'FUL',\n",
       " 'IPS',\n",
       " 'LEI',\n",
       " 'LIV',\n",
       " 'MC',\n",
       " 'MU',\n",
       " 'NEW',\n",
       " 'NFO',\n",
       " 'SOT',\n",
       " 'TOT',\n",
       " 'WH',\n",
       " 'WOL']"
      ]
     },
     "execution_count": 25,
     "metadata": {},
     "output_type": "execute_result"
    }
   ],
   "source": [
    "list(data['Club'].unique())"
   ]
  },
  {
   "cell_type": "code",
   "execution_count": 80,
   "metadata": {},
   "outputs": [],
   "source": [
    "# Disallowed teams for defensive players\n",
    "DISALLOWED_DF_TEAMS = [\"BOU\", \"BRE\", \"CHE\", \"EVE\", \"FUL\", \"IPS\", \"LEI\", \"NFO\", \"SOT\", \"WOL\"]\n",
    "#ALLOWED_DF_TEAMS = [\"MC\", \"LIV\", \"CHE\", \"ARS\"]\n",
    "DF_POSITIONS = ['GK', 'FB', \"CB\"]\n",
    "\n",
    "# Disallowed players\n",
    "DISALLOWED_PLAYERS = []\n",
    "\n",
    "MUST_HAVE_PLAYERS = [\"E. Smith Rowe\"]\n",
    "\n",
    "df_players = POSITIONS['FB'] + POSITIONS[\"CB\"]\n",
    "gk_players = POSITIONS['GK']\n",
    "COMBINED_DF_PLAYERS = df_players + gk_players\n",
    "\n",
    "ONE_OF_TEAMS = []\n",
    "TWO_DEFENSIVE_PLAYER_TEAMS = [\"ARS\", \"MC\", \"LIV\"]\n"
   ]
  },
  {
   "cell_type": "code",
   "execution_count": 81,
   "metadata": {},
   "outputs": [
    {
     "data": {
      "text/plain": [
       "1"
      ]
     },
     "execution_count": 81,
     "metadata": {},
     "output_type": "execute_result"
    }
   ],
   "source": [
    "# Create problem\n",
    "\n",
    "model = LpProblem(\"Fantasy\", LpMaximize)\n",
    "\n",
    "# variables\n",
    "position_constraints = {\n",
    "    'GK': 1,\n",
    "    'FB': 2,\n",
    "    \"CB\": 2,\n",
    "    'MF': 4,\n",
    "    'ST': 2\n",
    "}\n",
    "\n",
    "# Create player variables\n",
    "\n",
    "player_vars = LpVariable.dicts(\"PlayerVariables\", [(i) for i in PLAYERS], 0, 1, LpBinary)\n",
    "\n",
    "## CONSTRAINTS\n",
    "\n",
    "# Value constraint\n",
    "model += lpSum(player_vars[(i)] * values[i] for i in PLAYERS) <= 50.0\n",
    "\n",
    "# Team constraint\n",
    "for team, players in TEAMS.items():\n",
    "    model += lpSum(player_vars[(i)] for i in players) <= 2\n",
    "\n",
    "# Disallowed defensive combinations\n",
    "for team in TEAMS:\n",
    "    if team in DISALLOWED_DF_TEAMS:\n",
    "        model += lpSum(player_vars[(i)] for i in TEAMS[team] if i in COMBINED_DF_PLAYERS) == 0\n",
    "\n",
    "# Only one defensive player per team to reduce correlation\n",
    "for team in TEAMS:\n",
    "   if team in TEAMS.keys() and team not in TWO_DEFENSIVE_PLAYER_TEAMS:\n",
    "       model += lpSum(player_vars[(i)] for i in TEAMS[team] if i in COMBINED_DF_PLAYERS) <= 1\n",
    "\n",
    "# Disallowed players\n",
    "for player in DISALLOWED_PLAYERS:\n",
    "    if player in PLAYERS:\n",
    "        model += player_vars[(player)] == 0\n",
    "\n",
    "# Must have players\n",
    "for player in MUST_HAVE_PLAYERS:\n",
    "    if player in PLAYERS:\n",
    "        model += player_vars[(player)] == 1\n",
    "    \n",
    "# One of Teams\n",
    "for team in ONE_OF_TEAMS:\n",
    "    model += lpSum(player_vars[(i)] for i in TEAMS[team]) <= 1 \n",
    "\n",
    "# Position constraint\n",
    "for position, players in POSITIONS.items():\n",
    "    model += lpSum(player_vars[(i)] for i in players) == position_constraints[position]\n",
    "    \n",
    "## OBJECTIVE FUNCTION\n",
    "model += lpSum(player_vars[(i)] * points[i] for i in PLAYERS)\n",
    "\n",
    "\n",
    "## SOLVE\n",
    "model.solve()\n",
    "    "
   ]
  },
  {
   "cell_type": "code",
   "execution_count": 82,
   "metadata": {},
   "outputs": [
    {
     "data": {
      "text/plain": [
       "'Optimal'"
      ]
     },
     "execution_count": 82,
     "metadata": {},
     "output_type": "execute_result"
    }
   ],
   "source": [
    "LpStatus[model.status]"
   ]
  },
  {
   "cell_type": "code",
   "execution_count": 83,
   "metadata": {
    "scrolled": true
   },
   "outputs": [
    {
     "name": "stdout",
     "output_type": "stream",
     "text": [
      "Code: 116, Club: CP, Player: S. Johnstone, Points: 5, Value: 2.7\n",
      "Code: 201, Club: ARS, Player: B. White, Points: 57, Value: 4.2\n",
      "Code: 252, Club: MC, Player: J. Gvardiol, Points: 38, Value: 4.0\n",
      "Code: 301, Club: ARS, Player: G. Magalhaes, Points: 54, Value: 4.0\n",
      "Code: 362, Club: NEW, Player: J. Lascelles, Points: 9, Value: 2.9\n",
      "Code: 447, Club: CHE, Player: C. Palmer, Points: 90, Value: 5.3\n",
      "Code: 478, Club: FUL, Player: E. Smith Rowe, Points: 4, Value: 3.1\n",
      "Code: 503, Club: MC, Player: P. Foden, Points: 73, Value: 4.9\n",
      "Code: 550, Club: WH, Player: J. Bowen, Points: 60, Value: 4.8\n",
      "Code: 606, Club: AV, Player: O. Watkins, Points: 93, Value: 7.2\n",
      "Code: 675, Club: NEW, Player: A. Isak, Points: 71, Value: 6.8\n"
     ]
    },
    {
     "data": {
      "text/plain": [
       "554"
      ]
     },
     "execution_count": 83,
     "metadata": {},
     "output_type": "execute_result"
    }
   ],
   "source": [
    "total_sum = 0\n",
    "for i in PLAYERS:\n",
    "    if player_vars[(i)].varValue == 1:\n",
    "        print(f'Code: {codes[i]}, Club: {clubs_for_player[i]}, Player: {i}, Points: {points[i]}, Value: {values[i]}')\n",
    "        total_sum += points[i]\n",
    "total_sum"
   ]
  },
  {
   "cell_type": "code",
   "execution_count": 85,
   "metadata": {},
   "outputs": [
    {
     "data": {
      "text/plain": [
       "34"
      ]
     },
     "execution_count": 85,
     "metadata": {},
     "output_type": "execute_result"
    }
   ],
   "source": [
    "588-554"
   ]
  },
  {
   "cell_type": "code",
   "execution_count": null,
   "metadata": {},
   "outputs": [],
   "source": []
  },
  {
   "cell_type": "code",
   "execution_count": null,
   "metadata": {},
   "outputs": [],
   "source": []
  },
  {
   "cell_type": "code",
   "execution_count": null,
   "metadata": {},
   "outputs": [],
   "source": []
  },
  {
   "cell_type": "code",
   "execution_count": null,
   "metadata": {},
   "outputs": [],
   "source": []
  }
 ],
 "metadata": {
  "kernelspec": {
   "display_name": "Python 3 (ipykernel)",
   "language": "python",
   "name": "python3"
  },
  "language_info": {
   "codemirror_mode": {
    "name": "ipython",
    "version": 3
   },
   "file_extension": ".py",
   "mimetype": "text/x-python",
   "name": "python",
   "nbconvert_exporter": "python",
   "pygments_lexer": "ipython3",
   "version": "3.11.3"
  }
 },
 "nbformat": 4,
 "nbformat_minor": 4
}
