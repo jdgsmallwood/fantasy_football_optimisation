{
 "cells": [
  {
   "cell_type": "code",
   "execution_count": 100,
   "metadata": {},
   "outputs": [],
   "source": [
    "import pandas as pd\n",
    "\n",
    "from pulp import LpProblem, LpMaximize, lpSum, LpVariable, LpStatus, LpInteger, LpBinary\n",
    "\n",
    "data = pd.read_excel(\"data_2022.xlsx\").dropna()\n",
    "\n",
    "#PLAYED_AT_LEAST = 30\n",
    "#data = initial_data[initial_data['PLD'] >= PLAYED_AT_LEAST]"
   ]
  },
  {
   "cell_type": "code",
   "execution_count": 101,
   "metadata": {},
   "outputs": [
    {
     "data": {
      "text/html": [
       "<div>\n",
       "<style scoped>\n",
       "    .dataframe tbody tr th:only-of-type {\n",
       "        vertical-align: middle;\n",
       "    }\n",
       "\n",
       "    .dataframe tbody tr th {\n",
       "        vertical-align: top;\n",
       "    }\n",
       "\n",
       "    .dataframe thead th {\n",
       "        text-align: right;\n",
       "    }\n",
       "</style>\n",
       "<table border=\"1\" class=\"dataframe\">\n",
       "  <thead>\n",
       "    <tr style=\"text-align: right;\">\n",
       "      <th></th>\n",
       "      <th>Code</th>\n",
       "      <th>Name</th>\n",
       "      <th>Club</th>\n",
       "      <th>Value</th>\n",
       "      <th>Pts</th>\n",
       "      <th>Position</th>\n",
       "    </tr>\n",
       "  </thead>\n",
       "  <tbody>\n",
       "    <tr>\n",
       "      <th>0</th>\n",
       "      <td>145</td>\n",
       "      <td>A. Ramsdale</td>\n",
       "      <td>ARS</td>\n",
       "      <td>3.2</td>\n",
       "      <td>19</td>\n",
       "      <td>GK</td>\n",
       "    </tr>\n",
       "    <tr>\n",
       "      <th>1</th>\n",
       "      <td>124</td>\n",
       "      <td>B. Leno</td>\n",
       "      <td>ARS</td>\n",
       "      <td>2.8</td>\n",
       "      <td>-3</td>\n",
       "      <td>GK</td>\n",
       "    </tr>\n",
       "    <tr>\n",
       "      <th>2</th>\n",
       "      <td>101</td>\n",
       "      <td>E. Martinez</td>\n",
       "      <td>AV</td>\n",
       "      <td>3.1</td>\n",
       "      <td>10</td>\n",
       "      <td>GK</td>\n",
       "    </tr>\n",
       "    <tr>\n",
       "      <th>3</th>\n",
       "      <td>121</td>\n",
       "      <td>R. Olsen</td>\n",
       "      <td>AV</td>\n",
       "      <td>2.6</td>\n",
       "      <td>-2</td>\n",
       "      <td>GK</td>\n",
       "    </tr>\n",
       "    <tr>\n",
       "      <th>4</th>\n",
       "      <td>149</td>\n",
       "      <td>R. Sanchez</td>\n",
       "      <td>BHA</td>\n",
       "      <td>2.8</td>\n",
       "      <td>17</td>\n",
       "      <td>GK</td>\n",
       "    </tr>\n",
       "    <tr>\n",
       "      <th>...</th>\n",
       "      <td>...</td>\n",
       "      <td>...</td>\n",
       "      <td>...</td>\n",
       "      <td>...</td>\n",
       "      <td>...</td>\n",
       "      <td>...</td>\n",
       "    </tr>\n",
       "    <tr>\n",
       "      <th>459</th>\n",
       "      <td>651</td>\n",
       "      <td>L. Delap</td>\n",
       "      <td>MC</td>\n",
       "      <td>5.5</td>\n",
       "      <td>2</td>\n",
       "      <td>ST</td>\n",
       "    </tr>\n",
       "    <tr>\n",
       "      <th>460</th>\n",
       "      <td>653</td>\n",
       "      <td>S. Surridge</td>\n",
       "      <td>NOT</td>\n",
       "      <td>5.5</td>\n",
       "      <td>0</td>\n",
       "      <td>ST</td>\n",
       "    </tr>\n",
       "    <tr>\n",
       "      <th>461</th>\n",
       "      <td>626</td>\n",
       "      <td>L. Grabban</td>\n",
       "      <td>NOT</td>\n",
       "      <td>5.5</td>\n",
       "      <td>0</td>\n",
       "      <td>ST</td>\n",
       "    </tr>\n",
       "    <tr>\n",
       "      <th>462</th>\n",
       "      <td>640</td>\n",
       "      <td>T. Awoniyi</td>\n",
       "      <td>NOT</td>\n",
       "      <td>5.5</td>\n",
       "      <td>0</td>\n",
       "      <td>ST</td>\n",
       "    </tr>\n",
       "    <tr>\n",
       "      <th>463</th>\n",
       "      <td>666</td>\n",
       "      <td>K. Davis</td>\n",
       "      <td>AV</td>\n",
       "      <td>5.5</td>\n",
       "      <td>0</td>\n",
       "      <td>ST</td>\n",
       "    </tr>\n",
       "  </tbody>\n",
       "</table>\n",
       "<p>464 rows × 6 columns</p>\n",
       "</div>"
      ],
      "text/plain": [
       "     Code         Name Club  Value  Pts Position\n",
       "0     145  A. Ramsdale  ARS    3.2   19       GK\n",
       "1     124      B. Leno  ARS    2.8   -3       GK\n",
       "2     101  E. Martinez   AV    3.1   10       GK\n",
       "3     121     R. Olsen   AV    2.6   -2       GK\n",
       "4     149   R. Sanchez  BHA    2.8   17       GK\n",
       "..    ...          ...  ...    ...  ...      ...\n",
       "459   651     L. Delap   MC    5.5    2       ST\n",
       "460   653  S. Surridge  NOT    5.5    0       ST\n",
       "461   626   L. Grabban  NOT    5.5    0       ST\n",
       "462   640   T. Awoniyi  NOT    5.5    0       ST\n",
       "463   666     K. Davis   AV    5.5    0       ST\n",
       "\n",
       "[464 rows x 6 columns]"
      ]
     },
     "execution_count": 101,
     "metadata": {},
     "output_type": "execute_result"
    }
   ],
   "source": [
    "data"
   ]
  },
  {
   "cell_type": "code",
   "execution_count": 115,
   "metadata": {},
   "outputs": [],
   "source": [
    "# Create the data groups\n",
    "\n",
    "PLAYERS = data['Name'].tolist()\n",
    "\n",
    "TEAMS = {\n",
    "    team: data[data['Club'] == team]['Name'].tolist() for team in data['Club'].unique().tolist()\n",
    "}\n",
    "\n",
    "POSITIONS = {\n",
    "    position: data[data['Position'] == position]['Name'].tolist() for position in data['Position'].unique().tolist()\n",
    "}\n",
    "\n",
    "values = {\n",
    "    player: data[data['Name'] == player].iloc[0]['Value'] for player in PLAYERS\n",
    "}\n",
    "\n",
    "points = {\n",
    "    player: data[data['Name'] == player].iloc[0]['Pts'] for player in PLAYERS\n",
    "}\n",
    "\n",
    "codes = {\n",
    "     player: data[data['Name'] == player].iloc[0]['Code'] for player in PLAYERS\n",
    "}\n"
   ]
  },
  {
   "cell_type": "code",
   "execution_count": 111,
   "metadata": {},
   "outputs": [],
   "source": [
    "# Disallowed teams for defensive players\n",
    "DISALLOWED_DF_TEAMS = ['BHA', 'BRE', 'SOT', 'WAT', 'WOL', 'CP', 'NOR', 'LEE', 'NEW']\n",
    "ALLOWED_DF_TEAMS = [\"MC\", \"LIV\", \"CHE\", \"TOT\"]\n",
    "DF_POSITIONS = ['GK', 'FB', \"CB\"]\n",
    "\n",
    "# Disallowed players\n",
    "DISALLOWED_PLAYERS = [\"M. Antonio\", \"D. James\", \"C. Gallagher\",\n",
    "                      \"M. Alonso\", 'H. Kane', \"T. Chalobah\"]\n",
    "\n",
    "MUST_HAVE_PLAYERS = [\"E. Haaland\"]\n",
    "\n",
    "df_players = POSITIONS['FB'] + POSITIONS[\"CB\"]\n",
    "gk_players = POSITIONS['GK']\n",
    "COMBINED_DF_PLAYERS = df_players + gk_players\n",
    "\n",
    "ONE_OF_TEAMS = [\"WH\"]\n"
   ]
  },
  {
   "cell_type": "code",
   "execution_count": 112,
   "metadata": {},
   "outputs": [
    {
     "data": {
      "text/plain": [
       "1"
      ]
     },
     "execution_count": 112,
     "metadata": {},
     "output_type": "execute_result"
    }
   ],
   "source": [
    "# Create problem\n",
    "\n",
    "model = LpProblem(\"Fantasy\", LpMaximize)\n",
    "\n",
    "# variables\n",
    "position_constraints = {\n",
    "    'GK': 1,\n",
    "    'FB': 2,\n",
    "    \"CB\": 2,\n",
    "    'MF': 4,\n",
    "    'ST': 2\n",
    "}\n",
    "\n",
    "# Create player variables\n",
    "\n",
    "player_vars = LpVariable.dicts(\"PlayerVariables\", [(i) for i in PLAYERS], 0, 1, LpBinary)\n",
    "\n",
    "## CONSTRAINTS\n",
    "\n",
    "# Value constraint\n",
    "model += lpSum(player_vars[(i)] * values[i] for i in PLAYERS) <= 50.0\n",
    "\n",
    "# Team constraint\n",
    "for team, players in TEAMS.items():\n",
    "    model += lpSum(player_vars[(i)] for i in players) <= 2\n",
    "\n",
    "# Disallowed defensive combinations\n",
    "for team in TEAMS:\n",
    "    if team not in ALLOWED_DF_TEAMS:\n",
    "        model += lpSum(player_vars[(i)] for i in TEAMS[team] if i in COMBINED_DF_PLAYERS) == 0\n",
    "\n",
    "# Only one defensive player per team to reduce correlation\n",
    "#for team in TEAMS:\n",
    "#    if team in TEAMS.keys():\n",
    "#        model += lpSum(player_vars[(i)] for i in TEAMS[team] if i in COMBINED_DF_PLAYERS) <= 1\n",
    "\n",
    "# Disallowed players\n",
    "for player in DISALLOWED_PLAYERS:\n",
    "    if player in PLAYERS:\n",
    "        model += player_vars[(player)] == 0\n",
    "\n",
    "# Must have players\n",
    "for player in MUST_HAVE_PLAYERS:\n",
    "    if player in PLAYERS:\n",
    "        model += player_vars[(player)] == 1\n",
    "    \n",
    "# One of Teams\n",
    "for team in ONE_OF_TEAMS:\n",
    "    model += lpSum(player_vars[(i)] for i in TEAMS[team]) <= 1 \n",
    "\n",
    "# Position constraint\n",
    "for position, players in POSITIONS.items():\n",
    "    model += lpSum(player_vars[(i)] for i in players) == position_constraints[position]\n",
    "    \n",
    "## OBJECTIVE FUNCTION\n",
    "model += lpSum(player_vars[(i)] * points[i] for i in PLAYERS)\n",
    "\n",
    "\n",
    "## SOLVE\n",
    "model.solve()\n",
    "    "
   ]
  },
  {
   "cell_type": "code",
   "execution_count": 113,
   "metadata": {},
   "outputs": [
    {
     "data": {
      "text/plain": [
       "'Optimal'"
      ]
     },
     "execution_count": 113,
     "metadata": {},
     "output_type": "execute_result"
    }
   ],
   "source": [
    "LpStatus[model.status]"
   ]
  },
  {
   "cell_type": "code",
   "execution_count": 116,
   "metadata": {},
   "outputs": [
    {
     "name": "stdout",
     "output_type": "stream",
     "text": [
      "Code: 144, Player: E. Mendy, Points: 31\n",
      "Code: 232, Player: J. Cancelo, Points: 70\n",
      "Code: 239, Player: A. Robertson, Points: 70\n",
      "Code: 307, Player: E. Dier, Points: 38\n",
      "Code: 375, Player: V. Van Dijk, Points: 70\n",
      "Code: 549, Player: M. Mount, Points: 55\n",
      "Code: 502, Player: D. Kulusevski, Points: 60\n",
      "Code: 509, Player: S. Benrahma, Points: 36\n",
      "Code: 529, Player: E. Smith Rowe, Points: 34\n",
      "Code: 646, Player: E. Haaland, Points: 70\n",
      "Code: 695, Player: Y. Wissa, Points: 25\n"
     ]
    },
    {
     "data": {
      "text/plain": [
       "559"
      ]
     },
     "execution_count": 116,
     "metadata": {},
     "output_type": "execute_result"
    }
   ],
   "source": [
    "total_sum = 0\n",
    "for i in PLAYERS:\n",
    "    if player_vars[(i)].varValue == 1:\n",
    "        print(f'Code: {codes[i]}, Player: {i}, Points: {points[i]}')\n",
    "        total_sum += points[i]\n",
    "total_sum"
   ]
  },
  {
   "cell_type": "code",
   "execution_count": null,
   "metadata": {},
   "outputs": [],
   "source": []
  },
  {
   "cell_type": "code",
   "execution_count": null,
   "metadata": {},
   "outputs": [],
   "source": []
  },
  {
   "cell_type": "code",
   "execution_count": null,
   "metadata": {},
   "outputs": [],
   "source": []
  }
 ],
 "metadata": {
  "kernelspec": {
   "display_name": "Python 3 (ipykernel)",
   "language": "python",
   "name": "python3"
  },
  "language_info": {
   "codemirror_mode": {
    "name": "ipython",
    "version": 3
   },
   "file_extension": ".py",
   "mimetype": "text/x-python",
   "name": "python",
   "nbconvert_exporter": "python",
   "pygments_lexer": "ipython3",
   "version": "3.10.5"
  }
 },
 "nbformat": 4,
 "nbformat_minor": 4
}
